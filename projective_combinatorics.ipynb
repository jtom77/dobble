{
 "cells": [
  {
   "cell_type": "markdown",
   "metadata": {},
   "source": [
    "# Constructing a Dobble card set\n",
    "\n",
    "The set of cards of a Dobble game is defined by the rules\n",
    "\n",
    "1. Any two cards have exactly one symbol in common.\n",
    "2. Any two symbols appear together on exactly one card.\n",
    "\n",
    "It turns out that these requirements have an exact geometrical analogue. In two-dimensional affine geometry, the following two rules hold:\n",
    "\n",
    "1. Any two non-parallel lines meet in exactly one point.\n",
    "2. Any two points lie on (define) exactly one line. \n",
    "\n",
    "Since these characteristics depend only on the underlying vector-space, they particularly hold for vector-spaces over *finite fields* $\\mathbb{F}_q$ with $q$ elements. So the strategy to construct a Dobble card game is as follows. Associate \"card\" with \"line\" and \"symbol\" with \"point\" and consider the affine plane $\\mathbb{A}^2_q$ over the vector space $\\mathbb{F}_q^2$. Next, construct every line in $\\mathbb{A}^2_q$. Consider therefore that every line is defined by an equation\n",
    "$$\n",
    "    \\mathbf{w}\\cdot\\mathbf{x} + b = 0 \\qquad\\qquad (1)\n",
    "$$\n",
    "for some $\\mathbf{w} \\in \\mathbb{F}_q^2$ and $b\\in \\mathbb{F}_q$. In other words, each line is defined by a tuple $(\\mathbf{w}, b)$ where $\\mathbf{w}$ ranges over all different \"directions\" of the vector space. It is easily verified that \n",
    "$$\n",
    "    W := \\left\\{ (\\bar 0,\\bar 1)^T \\right\\} \\cup \\left\\{ (\\bar 1, \\bar 0)^T, (\\bar 1, \\bar 2)^T, \\ldots, (\\bar 1,\\overline{q-1})^T \\right\\} \\subset \\mathbb{F}_q^2\n",
    "$$\n",
    "is a complete and linear independent set representing all the directions in $\\mathbb{A}_q ^2$. \n",
    "With basic linear algebra one can show that the $p^2 + p$ tuples $(\\mathbf{w}, b) \\in W \\times \\mathbb{F}_q$ indeed define all the lines in \n",
    "$\\mathbb{A}_q^2$. Note that for every vector $\\mathbf{x} = (x_1,x_2)^T$ in equation (1) it is true that if you fix any component $x_1$ or $x_2$, there is exactly one solution for the other one. It follows that every line contains exactly $q$ points. \n",
    "\n",
    "Now, two different lines intersect in one point if they are _not parallel_, i.e. they have different norm vectors $\\mathbf{w}$, \n",
    "whereas two lines with the same directions don't have a point in common in the affine plane. \n",
    "To make sure that also in the parallel case two lines share an equal point, we assign a new element $p_{\\mathbf{w}} \n",
    "\\not\\in\\mathbb{A}_q^2$, called a \"point at infinity\", to every line with direction $\\mathbf{w}$. With this postulation, any two lines have exactly one point in common, whether they share the same direction or not. Finally, we add another line containing exactly all the \"points at infinity\". This makes sure that any two points lie on exactly one line.  (Technically, we are moving on to the _projective plane_ over $\\mathbb{F}_q$, but for our purpose we can treat these infinity points and lines as simple _ad hoc_ postulations because at this point of the argument we don't need any algebraic structure of the point set anymore).\n",
    "\n",
    "This finishes the construction of the Dobble card game. Substituting \"card\" with \"line\" and \"point\" with symbol, we see that required properties for the card set hold. Numberwise, the set has the following properties:\n",
    "\n",
    "* Every card contains $q+1$ symbols. (Every line contains $q$ normal points plus one \"point at infinity\".)\n",
    "* There are $q^2 + q + 1$ different symbols. (The $q^2$ points in $\\mathbb{A}_q^2$ plus $q+1$ \"points at infinity\".)\n",
    "* There are $q^2 + q + 1$ different cards. (The $q^2 + q$ lines in $\\mathbb{A}_q^2$ plus one \"line at infinity\".)\n",
    "\n",
    "Note that the construction depends on the existence of a field $\\mathbb{F}_q$ with $q$ elements. Such a field exists if and only if $q$ is a prime power, i.e. $q=p^n$ for some prime number $n$. For $n=1$ this is simply the residual ring $\\mathbb{Z}/p\\mathbb{Z}$ where the arithmetic is defined by modulo $p$. But in general, for $n>1$, the field $\\mathbb{F}_q$ is not isomorphic to the the residual ring. "
   ]
  },
  {
   "cell_type": "code",
   "execution_count": 130,
   "metadata": {},
   "outputs": [],
   "source": [
    "import random\n",
    "import galois\n",
    "import numpy as np\n",
    "\n",
    "class Line:\n",
    "    def __init__(self, GF, w, b):\n",
    "        self.w = GF(w)\n",
    "        self.b = GF(b)\n",
    "        # The points on the line. \n",
    "        # All parallel lines (lines with equal w) have a \"point at infinity\" in common which, \n",
    "        # by convention, we denote with (-w_0, -w_1)\n",
    "        self.points = [np.array([-w[0],-w[1]])]\n",
    "        \n",
    "    def contains(self, x):\n",
    "        return np.dot(self.w, x) + self.b == 0\n",
    "\n",
    "    def print(self):\n",
    "        print(f\"w={self.w.tolist()}x+{self.b.tolist()}: Points: {[x.tolist() for x in self.points]}\")\n",
    "\n",
    "class Dobble:\n",
    "\n",
    "    # q is the order of the finite field. Therefore, q has to be a prime power, q=p^n for some prime p.\n",
    "    # Every card will contain q+1 symbols\n",
    "    def __init__(self, q):\n",
    "        self.GF = galois.GF(q)\n",
    "        # In a finite affine vector space over a field of order n there are:\n",
    "        #   -- n+1 different directions: w=(0,1),(1,0),...(1,n-1)\n",
    "        #   -- n different offsets: b=0,...,n-1\n",
    "        # This makes n^2+n different lines defined by wx+b=0\n",
    "        self.lines = [Line(self.GF,(0,1),b) for b in range(q)] + [Line(self.GF,(1,m),b) for m in range(q) for b in range(q)]\n",
    "        self.points = [self.GF((x,y)) for x in range(q) for y in range(q)]\n",
    "\n",
    "        # Assign the points to the line\n",
    "        # TODO: optimize! This is highly redundant. Simply compute $w*x$ for every direction and assign to the appropriate line.  \n",
    "        for line in self.lines:\n",
    "            for x in self.points:\n",
    "                if line.contains(x):\n",
    "                    line.points.append(x)\n",
    "\n",
    "        # Add the \"line at infinity\" containing all \"points at infinity\"\n",
    "        line_at_infinity = Line(self.GF,(0,0),0)\n",
    "        line_at_infinity.points = [np.array([0,-1])] + [np.array([-1,-m]) for m in range(q)]\n",
    "        self.lines.append(line_at_infinity)\n",
    "\n",
    "    def play(self):\n",
    "        i,j = random.sample(range(len(self.lines)), 2)\n",
    "        common_points = []\n",
    "        for x in self.lines[i].points:\n",
    "            for y in self.lines[j].points:\n",
    "                if x[0]==y[0] and x[1]==y[1]:\n",
    "                    common_points.append(x)\n",
    "        \n",
    "        print(\"New Game\")\n",
    "        self.lines[i].print()\n",
    "        self.lines[j].print()\n",
    "        print(F\"Common point {[x.tolist() for x in common_points]}\")\n",
    "        print(\"\")"
   ]
  },
  {
   "cell_type": "code",
   "execution_count": 132,
   "metadata": {},
   "outputs": [
    {
     "name": "stdout",
     "output_type": "stream",
     "text": [
      "[GF([0, 0], order=7), GF([0, 1], order=7), GF([0, 2], order=7), GF([0, 3], order=7), GF([0, 4], order=7), GF([0, 5], order=7), GF([0, 6], order=7), GF([1, 0], order=7), GF([1, 1], order=7), GF([1, 2], order=7), GF([1, 3], order=7), GF([1, 4], order=7), GF([1, 5], order=7), GF([1, 6], order=7), GF([2, 0], order=7), GF([2, 1], order=7), GF([2, 2], order=7), GF([2, 3], order=7), GF([2, 4], order=7), GF([2, 5], order=7), GF([2, 6], order=7), GF([3, 0], order=7), GF([3, 1], order=7), GF([3, 2], order=7), GF([3, 3], order=7), GF([3, 4], order=7), GF([3, 5], order=7), GF([3, 6], order=7), GF([4, 0], order=7), GF([4, 1], order=7), GF([4, 2], order=7), GF([4, 3], order=7), GF([4, 4], order=7), GF([4, 5], order=7), GF([4, 6], order=7), GF([5, 0], order=7), GF([5, 1], order=7), GF([5, 2], order=7), GF([5, 3], order=7), GF([5, 4], order=7), GF([5, 5], order=7), GF([5, 6], order=7), GF([6, 0], order=7), GF([6, 1], order=7), GF([6, 2], order=7), GF([6, 3], order=7), GF([6, 4], order=7), GF([6, 5], order=7), GF([6, 6], order=7)]\n",
      "New Game\n",
      "w=[0, 1]x+1: Points: [[0, -1], [0, 6], [1, 6], [2, 6], [3, 6], [4, 6], [5, 6], [6, 6]]\n",
      "w=[1, 0]x+1: Points: [[-1, 0], [6, 0], [6, 1], [6, 2], [6, 3], [6, 4], [6, 5], [6, 6]]\n",
      "Common point [[6, 6]]\n",
      "\n",
      "New Game\n",
      "w=[1, 0]x+1: Points: [[-1, 0], [6, 0], [6, 1], [6, 2], [6, 3], [6, 4], [6, 5], [6, 6]]\n",
      "w=[1, 4]x+0: Points: [[-1, -4], [0, 0], [1, 5], [2, 3], [3, 1], [4, 6], [5, 4], [6, 2]]\n",
      "Common point [[6, 2]]\n",
      "\n",
      "New Game\n",
      "w=[1, 5]x+4: Points: [[-1, -5], [0, 2], [1, 6], [2, 3], [3, 0], [4, 4], [5, 1], [6, 5]]\n",
      "w=[1, 2]x+6: Points: [[-1, -2], [0, 4], [1, 0], [2, 3], [3, 6], [4, 2], [5, 5], [6, 1]]\n",
      "Common point [[2, 3]]\n",
      "\n",
      "New Game\n",
      "w=[1, 3]x+1: Points: [[-1, -3], [0, 2], [1, 4], [2, 6], [3, 1], [4, 3], [5, 5], [6, 0]]\n",
      "w=[1, 3]x+0: Points: [[-1, -3], [0, 0], [1, 2], [2, 4], [3, 6], [4, 1], [5, 3], [6, 5]]\n",
      "Common point [[-1, -3]]\n",
      "\n",
      "New Game\n",
      "w=[1, 4]x+6: Points: [[-1, -4], [0, 2], [1, 0], [2, 5], [3, 3], [4, 1], [5, 6], [6, 4]]\n",
      "w=[1, 5]x+1: Points: [[-1, -5], [0, 4], [1, 1], [2, 5], [3, 2], [4, 6], [5, 3], [6, 0]]\n",
      "Common point [[2, 5]]\n",
      "\n"
     ]
    }
   ],
   "source": [
    "dobble = Dobble(7)\n",
    "\n",
    "for i in range(5):\n",
    "    dobble.play()"
   ]
  },
  {
   "cell_type": "code",
   "execution_count": 118,
   "metadata": {},
   "outputs": [
    {
     "name": "stdout",
     "output_type": "stream",
     "text": [
      "[[(0, 1), [[], [], []]], [(0, 0), [[], [], []]], [(0, 1), [[], [], []]], [(0, 2), [[], [], []]], [(1, 0), [[], [], []]], [(1, 1), [[], [], []]], [(1, 2), [[], [], []]], [(2, 0), [[], [], []]], [(2, 1), [[], [], []]], [(2, 2), [[], [], []]]]\n"
     ]
    }
   ],
   "source": [
    "w = [(0,1)] + [(x,y) for x in range(3) for y in range(3)]\n",
    "p = [[ww, [[] for _ in range(3)]] for ww in w]\n",
    "print(p)"
   ]
  }
 ],
 "metadata": {
  "kernelspec": {
   "display_name": "qiskit",
   "language": "python",
   "name": "qiskit"
  },
  "language_info": {
   "codemirror_mode": {
    "name": "ipython",
    "version": 3
   },
   "file_extension": ".py",
   "mimetype": "text/x-python",
   "name": "python",
   "nbconvert_exporter": "python",
   "pygments_lexer": "ipython3",
   "version": "3.9.18"
  },
  "orig_nbformat": 4
 },
 "nbformat": 4,
 "nbformat_minor": 2
}
